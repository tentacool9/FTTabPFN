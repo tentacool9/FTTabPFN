{
 "cells": [
  {
   "cell_type": "code",
   "execution_count": 1,
   "id": "9e9d7c6a-4f72-48fe-afb3-9de24f2d7f47",
   "metadata": {},
   "outputs": [],
   "source": [
    "from fine_tuning_tabpfn.finetune_tabpfn import fine_tune_tabpfn\n",
    "# from tabpfn.model.gatedtransformerv2 import GatedPerFeatureTransformer\n",
    "from tabpfn.model.gatedtransformer import GatedPerFeatureTransformer"
   ]
  },
  {
   "cell_type": "code",
   "execution_count": 2,
   "id": "c63c7c2a-99af-405f-9db1-ac7739d9128d",
   "metadata": {},
   "outputs": [],
   "source": [
    "from fine_tuning_tabpfn.finetune_tabpfn import fine_tune_tabpfn\n",
    "from sklearn.datasets import load_iris, load_wine, fetch_openml,load_digits, load_breast_cancer\n",
    "from sklearn.metrics import log_loss\n",
    "from sklearn.model_selection import train_test_split\n",
    "from tabpfn.classifier import TabPFNClassifier\n",
    "import torch.nn as nn\n",
    "import torch\n",
    "from sklearn.metrics import accuracy_score,precision_score,recall_score\n",
    "import numpy as np\n",
    "import pandas as pd\n"
   ]
  },
  {
   "cell_type": "code",
   "execution_count": 8,
   "id": "bb5d0814-d2d5-4465-84c4-b37b4f8b8cab",
   "metadata": {},
   "outputs": [],
   "source": [
    "def load_synthetic_lspin_easy():\n",
    "    np.random.seed(42)\n",
    "    Xs1 = np.random.normal(loc=1,scale=0.5,size=(300,5))\n",
    "    Ys1 = -2*Xs1[:,0]+1*Xs1[:,1]-0.5*Xs1[:,2]\n",
    "    \n",
    "    Xs2 = np.random.normal(loc=-1,scale=0.5,size=(300,5))\n",
    "    Ys2 = -0.5*Xs2[:,2]+1*Xs2[:,3]-2*Xs2[:,4]\n",
    "    X_data = np.concatenate((Xs1,Xs2),axis=0)\n",
    "    Y_data = np.concatenate((Ys1.reshape(-1,1),Ys2.reshape(-1,1)),axis=0)\n",
    "    Y_data = Y_data-Y_data.min()\n",
    "    Y_data=Y_data/Y_data.max()\n",
    "    y_labels = np.concatenate((np.array([0]*300),np.array([1]*300)))\n",
    "    X_data = pd.DataFrame(X_data)\n",
    "    y_labels = pd.DataFrame(y_labels)\n",
    "    return X_data, y_labels\n",
    "\n",
    "def load_synthetic_data_lspin_hard():\n",
    "    N_train = 1500\n",
    "    N_valid=300\n",
    "    N_test = 300\n",
    "    D=7\n",
    "    np.random.seed(42)\n",
    "    group_size=int(N_train/3)\n",
    "    X_train = np.sign(np.random.normal(0,1,(N_train,D)))\n",
    "    X_train = np.concatenate((X_train,\n",
    "                             np.concatenate(([-1]*group_size,[0]*group_size,[1]*group_size)).reshape(-1,1)),axis=1)\n",
    "    Y_train = np.concatenate((X_train[:group_size,0]*X_train[:group_size,1]+2*X_train[:group_size,-1],\n",
    "                              X_train[group_size:(group_size*2),1]*X_train[group_size:(group_size*2),2]+2*X_train[group_size:(group_size*2),-1],\n",
    "                              X_train[(group_size*2):(group_size*3),2]*X_train[(group_size*2):(group_size*3),3]+2*X_train[(group_size*2):(group_size*3),-1],\n",
    "                             ),axis=0)\n",
    "    Y_train = pd.DataFrame(Y_train)\n",
    "    Y_train[0] = Y_train[0].apply(lambda x: 0 if x == 1 else x)\n",
    "    Y_train[0] = Y_train[0].apply(lambda x: 1 if x == -1 else x)\n",
    "    Y_train[0] = Y_train[0].apply(lambda x: 2 if x == 3 else x)\n",
    "    Y_train[0] = Y_train[0].apply(lambda x: 3 if x == -3 else x)\n",
    "    return pd.DataFrame(X_train), Y_train"
   ]
  },
  {
   "cell_type": "code",
   "execution_count": 13,
   "id": "c35aca17-d990-4f0e-b9a0-123053be4e8e",
   "metadata": {},
   "outputs": [],
   "source": [
    "# Load data\n",
    "# X, y = load_wine(return_X_y=True, as_frame=True)\n",
    "# X, y = load_breast_cancer(return_X_y=True, as_frame=True)\n",
    "X,y = load_synthetic_data_lspin_hard()\n",
    "# Load MNIST from OpenML; as_frame=True returns a Pandas DataFrame.\n",
    "# mnist = fetch_openml('mnist_784', version=1, as_frame=True)\n",
    "# X, y = mnist[\"data\"], mnist[\"target\"]\n",
    "# y = y.astype(int)\n",
    "# digits = load_digits()\n",
    "# X, y = pd.DataFrame(digits.data), pd.Series(digits.target)\n",
    "X_train, X_test, y_train, y_test = train_test_split(\n",
    "    X,\n",
    "    y,\n",
    "    test_size=0.33,\n",
    "    random_state=42,\n",
    "    shuffle=True\n",
    ")"
   ]
  },
  {
   "cell_type": "code",
   "execution_count": 15,
   "id": "1f6792bc-ddd1-46bc-a527-0253f14b5c93",
   "metadata": {},
   "outputs": [
    {
     "name": "stdout",
     "output_type": "stream",
     "text": [
      "Warning: No feature gate parameters found in state_dict; using random initialization for feature_gate.\n",
      "Warning: No sample gate parameters found in state_dict; using random initialization for sample_gate.\n",
      "Loaded gating model for attention\n",
      "Loaded Gated Model\n",
      "torch.Size([1, 5025, 192])\n"
     ]
    },
    {
     "name": "stderr",
     "output_type": "stream",
     "text": [
      "Fine-tuning Steps:   0%|                                                                     | 1/10000 [00:00<?, ?it/s]"
     ]
    },
    {
     "name": "stdout",
     "output_type": "stream",
     "text": [
      "torch.Size([8, 3365, 192])\n",
      "torch.Size([1, 5025, 192])\n"
     ]
    },
    {
     "name": "stderr",
     "output_type": "stream",
     "text": [
      "Fine-tuning Steps:   0%| | 2/10000 [00:10<30:15:39, 10.90s/it, Best Val. Loss=0.000281, Best Val. Score=-0.000281, Trai"
     ]
    },
    {
     "name": "stdout",
     "output_type": "stream",
     "text": [
      "torch.Size([8, 3365, 192])\n",
      "torch.Size([1, 5025, 192])\n"
     ]
    },
    {
     "name": "stderr",
     "output_type": "stream",
     "text": [
      "Fine-tuning Steps:   0%| | 3/10000 [00:19<26:45:03,  9.63s/it, Best Val. Loss=0.000281, Best Val. Score=-0.000281, Trai"
     ]
    },
    {
     "name": "stdout",
     "output_type": "stream",
     "text": [
      "torch.Size([8, 3365, 192])\n",
      "torch.Size([1, 5025, 192])\n"
     ]
    },
    {
     "name": "stderr",
     "output_type": "stream",
     "text": [
      "Fine-tuning Steps:   0%| | 4/10000 [00:28<25:41:34,  9.25s/it, Best Val. Loss=0.000281, Best Val. Score=-0.000281, Trai"
     ]
    },
    {
     "name": "stdout",
     "output_type": "stream",
     "text": [
      "torch.Size([8, 3365, 192])\n",
      "torch.Size([1, 5025, 192])\n"
     ]
    },
    {
     "name": "stderr",
     "output_type": "stream",
     "text": [
      "Fine-tuning Steps:   0%| | 5/10000 [00:37<25:14:18,  9.09s/it, Best Val. Loss=0.00028, Best Val. Score=-0.00028, Traini"
     ]
    },
    {
     "name": "stdout",
     "output_type": "stream",
     "text": [
      "torch.Size([8, 3365, 192])\n",
      "torch.Size([1, 5025, 192])\n"
     ]
    },
    {
     "name": "stderr",
     "output_type": "stream",
     "text": [
      "Fine-tuning Steps:   0%| | 6/10000 [00:46<24:59:56,  9.01s/it, Best Val. Loss=0.000244, Best Val. Score=-0.000244, Trai"
     ]
    },
    {
     "name": "stdout",
     "output_type": "stream",
     "text": [
      "torch.Size([8, 3365, 192])\n",
      "torch.Size([1, 5025, 192])\n"
     ]
    },
    {
     "name": "stderr",
     "output_type": "stream",
     "text": [
      "Fine-tuning Steps:   0%| | 7/10000 [00:54<24:51:20,  8.95s/it, Best Val. Loss=0.000228, Best Val. Score=-0.000228, Trai"
     ]
    },
    {
     "name": "stdout",
     "output_type": "stream",
     "text": [
      "torch.Size([8, 3365, 192])\n",
      "torch.Size([1, 5025, 192])\n"
     ]
    },
    {
     "name": "stderr",
     "output_type": "stream",
     "text": [
      "Fine-tuning Steps:   0%| | 8/10000 [01:03<24:44:50,  8.92s/it, Best Val. Loss=0.000218, Best Val. Score=-0.000218, Trai"
     ]
    },
    {
     "name": "stdout",
     "output_type": "stream",
     "text": [
      "torch.Size([8, 3365, 192])\n",
      "torch.Size([1, 5025, 192])\n"
     ]
    },
    {
     "name": "stderr",
     "output_type": "stream",
     "text": [
      "Fine-tuning Steps:   0%| | 9/10000 [01:12<24:40:59,  8.89s/it, Best Val. Loss=0.000204, Best Val. Score=-0.000204, Trai"
     ]
    },
    {
     "name": "stdout",
     "output_type": "stream",
     "text": [
      "torch.Size([8, 3365, 192])\n",
      "torch.Size([1, 5025, 192])\n"
     ]
    },
    {
     "name": "stderr",
     "output_type": "stream",
     "text": [
      "Fine-tuning Steps:   0%| | 10/10000 [01:21<24:38:26,  8.88s/it, Best Val. Loss=0.000196, Best Val. Score=-0.000196, Tra"
     ]
    },
    {
     "name": "stdout",
     "output_type": "stream",
     "text": [
      "torch.Size([8, 3365, 192])\n",
      "torch.Size([1, 5025, 192])\n"
     ]
    },
    {
     "name": "stderr",
     "output_type": "stream",
     "text": [
      "Fine-tuning Steps:   0%| | 11/10000 [01:30<24:37:23,  8.87s/it, Best Val. Loss=0.000172, Best Val. Score=-0.000172, Tra"
     ]
    },
    {
     "name": "stdout",
     "output_type": "stream",
     "text": [
      "torch.Size([8, 3365, 192])\n",
      "torch.Size([1, 5025, 192])\n"
     ]
    },
    {
     "name": "stderr",
     "output_type": "stream",
     "text": [
      "Fine-tuning Steps:   0%| | 12/10000 [01:39<24:35:37,  8.86s/it, Best Val. Loss=0.00016, Best Val. Score=-0.00016, Train"
     ]
    },
    {
     "name": "stdout",
     "output_type": "stream",
     "text": [
      "torch.Size([8, 3365, 192])\n",
      "torch.Size([1, 5025, 192])\n"
     ]
    },
    {
     "name": "stderr",
     "output_type": "stream",
     "text": [
      "Fine-tuning Steps:   0%| | 13/10000 [01:48<24:34:39,  8.86s/it, Best Val. Loss=0.000158, Best Val. Score=-0.000158, Tra"
     ]
    },
    {
     "name": "stdout",
     "output_type": "stream",
     "text": [
      "torch.Size([8, 3365, 192])\n",
      "torch.Size([1, 5025, 192])\n"
     ]
    },
    {
     "name": "stderr",
     "output_type": "stream",
     "text": [
      "Fine-tuning Steps:   0%| | 14/10000 [01:56<24:34:07,  8.86s/it, Best Val. Loss=0.000141, Best Val. Score=-0.000141, Tra"
     ]
    },
    {
     "name": "stdout",
     "output_type": "stream",
     "text": [
      "torch.Size([8, 3365, 192])\n",
      "torch.Size([1, 5025, 192])\n"
     ]
    },
    {
     "name": "stderr",
     "output_type": "stream",
     "text": [
      "Fine-tuning Steps:   0%| | 15/10000 [02:05<24:34:08,  8.86s/it, Best Val. Loss=0.00013, Best Val. Score=-0.00013, Train"
     ]
    },
    {
     "name": "stdout",
     "output_type": "stream",
     "text": [
      "torch.Size([8, 3365, 192])\n",
      "torch.Size([1, 5025, 192])\n"
     ]
    },
    {
     "name": "stderr",
     "output_type": "stream",
     "text": [
      "Fine-tuning Steps:   0%| | 16/10000 [02:14<24:34:35,  8.86s/it, Best Val. Loss=0.00013, Best Val. Score=-0.00013, Train"
     ]
    },
    {
     "name": "stdout",
     "output_type": "stream",
     "text": [
      "torch.Size([8, 3365, 192])\n",
      "torch.Size([1, 5025, 192])\n"
     ]
    },
    {
     "name": "stderr",
     "output_type": "stream",
     "text": [
      "Fine-tuning Steps:   0%| | 17/10000 [02:23<24:37:13,  8.88s/it, Best Val. Loss=0.000122, Best Val. Score=-0.000122, Tra"
     ]
    },
    {
     "name": "stdout",
     "output_type": "stream",
     "text": [
      "torch.Size([8, 3365, 192])\n",
      "torch.Size([1, 5025, 192])\n"
     ]
    },
    {
     "name": "stderr",
     "output_type": "stream",
     "text": [
      "Fine-tuning Steps:   0%| | 18/10000 [02:32<24:38:45,  8.89s/it, Best Val. Loss=0.000116, Best Val. Score=-0.000116, Tra"
     ]
    },
    {
     "name": "stdout",
     "output_type": "stream",
     "text": [
      "torch.Size([8, 3365, 192])\n",
      "torch.Size([1, 5025, 192])\n"
     ]
    },
    {
     "name": "stderr",
     "output_type": "stream",
     "text": [
      "Fine-tuning Steps:   0%| | 19/10000 [02:41<24:39:57,  8.90s/it, Best Val. Loss=0.000114, Best Val. Score=-0.000114, Tra"
     ]
    },
    {
     "name": "stdout",
     "output_type": "stream",
     "text": [
      "torch.Size([8, 3365, 192])\n",
      "torch.Size([1, 5025, 192])\n"
     ]
    },
    {
     "name": "stderr",
     "output_type": "stream",
     "text": [
      "Fine-tuning Steps:   0%| | 20/10000 [02:50<24:40:47,  8.90s/it, Best Val. Loss=0.000105, Best Val. Score=-0.000105, Tra"
     ]
    },
    {
     "name": "stdout",
     "output_type": "stream",
     "text": [
      "torch.Size([8, 3365, 192])\n",
      "torch.Size([1, 5025, 192])\n"
     ]
    },
    {
     "name": "stderr",
     "output_type": "stream",
     "text": [
      "Fine-tuning Steps:   0%| | 21/10000 [02:59<24:41:09,  8.91s/it, Best Val. Loss=0.000104, Best Val. Score=-0.000104, Tra"
     ]
    },
    {
     "name": "stdout",
     "output_type": "stream",
     "text": [
      "torch.Size([8, 3365, 192])\n",
      "torch.Size([1, 5025, 192])\n"
     ]
    },
    {
     "name": "stderr",
     "output_type": "stream",
     "text": [
      "Fine-tuning Steps:   0%| | 22/10000 [03:08<24:41:44,  8.91s/it, Best Val. Loss=9.14e-5, Best Val. Score=-9.14e-5, Train"
     ]
    },
    {
     "name": "stdout",
     "output_type": "stream",
     "text": [
      "torch.Size([8, 3365, 192])\n",
      "torch.Size([1, 5025, 192])\n"
     ]
    },
    {
     "name": "stderr",
     "output_type": "stream",
     "text": [
      "Fine-tuning Steps:   0%| | 22/10000 [03:17<26:00:40,  9.38s/it, Best Val. Loss=8.96e-5, Best Val. Score=-8.96e-5, Train\n"
     ]
    },
    {
     "data": {
      "image/png": "[encoded data removed]",
      "text/plain": [
       "<Figure size 800x800 with 1 Axes>"
      ]
     },
     "metadata": {},
     "output_type": "display_data"
    }
   ],
   "source": [
    "\n",
    "\n",
    "\n",
    "# Finetune\n",
    "save_path_to_fine_tuned_model = \"./fine_tuned_model_new_28_03_gated_ls2.ckpt\"\n",
    "fine_tune_tabpfn(\n",
    "    path_to_base_model=\"auto\",\n",
    "    save_path_to_fine_tuned_model=save_path_to_fine_tuned_model,\n",
    "    # Finetuning HPs\n",
    "    time_limit=200,\n",
    "    finetuning_config={\"learning_rate\": 0.00001, \"batch_size\": 8,\"min_patience\": 300,\"max_patience\": 1000},\n",
    "    validation_metric=\"log_loss\",\n",
    "    # Input Data\n",
    "    X_train=X_train,\n",
    "    y_train=y_train,\n",
    "    categorical_features_index=None,\n",
    "    device=\"cuda\",  # use \"cpu\" if you don't have a GPU\n",
    "    task_type=\"multiclass\",\n",
    "    gated=True,\n",
    "    # Optional\n",
    "    show_training_curve=True,  # Shows a final report after finetuning.\n",
    "    logger_level=-100,  # Shows all logs, higher values shows less\n",
    "    use_wandb=False,  # Init wandb yourself, and set to True\n",
    ")\n",
    "\n",
    "\n"
   ]
  },
  {
   "cell_type": "code",
   "execution_count": 16,
   "id": "c6ccfab1-a1f4-440c-bc9e-d9b9c834950a",
   "metadata": {},
   "outputs": [
    {
     "name": "stdout",
     "output_type": "stream",
     "text": [
      "Loaded gating model for attention\n",
      "Loaded Gated Model\n",
      "torch.Size([1, 12000, 192])\n"
     ]
    },
    {
     "name": "stderr",
     "output_type": "stream",
     "text": [
      "C:\\conda_envs\\ds310\\lib\\site-packages\\sklearn\\utils\\validation.py:1408: DataConversionWarning: A column-vector y was passed when a 1d array was expected. Please change the shape of y to (n_samples, ), for example using ravel().\n",
      "  y = column_or_1d(y, warn=True)\n"
     ]
    },
    {
     "name": "stdout",
     "output_type": "stream",
     "text": [
      "torch.Size([1, 12000, 192])\n",
      "torch.Size([1, 9000, 192])\n",
      "torch.Size([1, 9000, 192])\n",
      "Log Loss (Default): 0.001342459457530876\n"
     ]
    }
   ],
   "source": [
    "\n",
    "gated_model = TabPFNClassifier(\n",
    "    model_path=save_path_to_fine_tuned_model,\n",
    "    gated=True\n",
    ")\n",
    "# Then, use gated_model in your fine-tuning pipeline.\n",
    "clf = gated_model.fit(X_train, y_train)\n",
    "print(\"Log Loss (Default):\", log_loss(y_test, clf.predict_proba(X_test)))"
   ]
  },
  {
   "cell_type": "code",
   "execution_count": 17,
   "id": "7abcd2c8-a689-4267-bf00-d3f4888ae147",
   "metadata": {},
   "outputs": [
    {
     "name": "stdout",
     "output_type": "stream",
     "text": [
      "torch.Size([1, 12000, 192])\n",
      "torch.Size([1, 12000, 192])\n",
      "torch.Size([1, 9000, 192])\n",
      "torch.Size([1, 9000, 192])\n",
      "torch.Size([1, 12000, 192])\n",
      "torch.Size([1, 12000, 192])\n",
      "torch.Size([1, 9000, 192])\n",
      "torch.Size([1, 9000, 192])\n",
      "torch.Size([1, 12000, 192])\n",
      "torch.Size([1, 12000, 192])\n",
      "torch.Size([1, 9000, 192])\n",
      "torch.Size([1, 9000, 192])\n"
     ]
    },
    {
     "data": {
      "text/plain": [
       "(1.0, 1.0, 1.0)"
      ]
     },
     "execution_count": 17,
     "metadata": {},
     "output_type": "execute_result"
    }
   ],
   "source": [
    "accuracy_score(y_test,np.argmax(clf.predict_proba(X_test),axis=1)),\\\n",
    "precision_score(y_test,np.argmax(clf.predict_proba(X_test),axis=1),\\\n",
    "average='weighted'),\\\n",
    "recall_score(y_test,np.argmax(clf.predict_proba(X_test),axis=1),average='weighted')"
   ]
  },
  {
   "cell_type": "markdown",
   "id": "116a9953-2025-486d-8a3e-e5fca10dffb2",
   "metadata": {},
   "source": [
    "## OG"
   ]
  },
  {
   "cell_type": "code",
   "execution_count": 18,
   "id": "4b0285bd-8b04-498d-8f65-d436ef28b3c3",
   "metadata": {},
   "outputs": [
    {
     "name": "stdout",
     "output_type": "stream",
     "text": [
      "Loaded Regular Model\n"
     ]
    },
    {
     "name": "stderr",
     "output_type": "stream",
     "text": [
      "Fine-tuning Steps:   0%| | 22/10000 [03:17<26:01:24,  9.39s/it, Best Val. Loss=2.21e-5, Best Val. Score=-2.21e-5, Train\n"
     ]
    },
    {
     "data": {
      "image/png": "[encoded data removed]",
      "text/plain": [
       "<Figure size 800x800 with 1 Axes>"
      ]
     },
     "metadata": {},
     "output_type": "display_data"
    }
   ],
   "source": [
    "\n",
    "# Load data\n",
    "# X, y = load_breast_cancer(return_X_y=True, as_frame=True)\n",
    "# X,y = load_synthetic_lspin_hard()\n",
    "# # X, y = load_wine(return_X_y=True, as_frame=True)\n",
    "# # Load MNIST from OpenML; as_frame=True returns a Pandas DataFrame.\n",
    "# # mnist = fetch_openml('mnist_784', version=1, as_frame=True)\n",
    "# # X, y = mnist[\"data\"], mnist[\"target\"]\n",
    "# # y = y.astype(int)\n",
    "# # digits = load_digits()\n",
    "# # X, y = pd.DataFrame(digits.data), pd.Series(digits.target)\n",
    "# X_train, X_test, y_train, y_test = train_test_split(\n",
    "#     X,\n",
    "#     y,\n",
    "#     test_size=0.33,\n",
    "#     random_state=42,\n",
    "#     shuffle=True\n",
    "# )\n",
    "\n",
    "# Finetune\n",
    "save_path_to_fine_tuned_model = 'base_model_lsh.ckpt'\n",
    "fine_tune_tabpfn(\n",
    "    path_to_base_model=\"auto\",\n",
    "    save_path_to_fine_tuned_model=save_path_to_fine_tuned_model,\n",
    "    # Finetuning HPs\n",
    "  time_limit=200,\n",
    "    finetuning_config={\"learning_rate\": 0.00001, \"batch_size\": 8,\"min_patience\": 300,\"max_patience\": 1000},\n",
    "    validation_metric=\"log_loss\",\n",
    "    # Input Data\n",
    "    X_train=X_train,\n",
    "    y_train=y_train,\n",
    "    categorical_features_index=None,\n",
    "    device=\"cuda\",  # use \"cpu\" if you don't have a GPU\n",
    "    task_type=\"multiclass\",\n",
    "    # Optional\n",
    "    show_training_curve=True,  # Shows a final report after finetuning.\n",
    "    logger_level=-100,  # Shows all logs, higher values shows less\n",
    "    use_wandb=False,  # Init wandb yourself, and set to True\n",
    ")\n",
    "\n",
    "\n"
   ]
  },
  {
   "cell_type": "code",
   "execution_count": 19,
   "id": "6d4ad780-9ef6-4851-974e-ac37481469bf",
   "metadata": {},
   "outputs": [
    {
     "name": "stdout",
     "output_type": "stream",
     "text": [
      "Loaded Regular Model\n"
     ]
    },
    {
     "name": "stderr",
     "output_type": "stream",
     "text": [
      "C:\\conda_envs\\ds310\\lib\\site-packages\\sklearn\\utils\\validation.py:1408: DataConversionWarning: A column-vector y was passed when a 1d array was expected. Please change the shape of y to (n_samples, ), for example using ravel().\n",
      "  y = column_or_1d(y, warn=True)\n"
     ]
    },
    {
     "name": "stdout",
     "output_type": "stream",
     "text": [
      "Log Loss (Default): 0.002286559913825934\n"
     ]
    }
   ],
   "source": [
    "\n",
    "reg_model = TabPFNClassifier(\n",
    "    model_path=save_path_to_fine_tuned_model,\n",
    ")\n",
    "# Then, use gated_model in your fine-tuning pipeline.\n",
    "clf = reg_model.fit(X_train, y_train)\n",
    "print(\"Log Loss (Default):\", log_loss(y_test, clf.predict_proba(X_test)))"
   ]
  },
  {
   "cell_type": "code",
   "execution_count": 20,
   "id": "f01374a1-2a9c-4f7f-b26c-695d9768451e",
   "metadata": {},
   "outputs": [
    {
     "data": {
      "text/plain": [
       "(1.0, 1.0, 1.0)"
      ]
     },
     "execution_count": 20,
     "metadata": {},
     "output_type": "execute_result"
    }
   ],
   "source": [
    "accuracy_score(y_test,np.argmax(clf.predict_proba(X_test),axis=1)),\\\n",
    "precision_score(y_test,np.argmax(clf.predict_proba(X_test),axis=1),\\\n",
    "average='weighted'),\\\n",
    "recall_score(y_test,np.argmax(clf.predict_proba(X_test),axis=1),average='weighted')"
   ]
  },
  {
   "cell_type": "code",
   "execution_count": 19,
   "id": "cf5cb706-6f4a-42ec-b82b-f554c25b4d12",
   "metadata": {},
   "outputs": [
    {
     "data": {
      "text/plain": [
       "True"
      ]
     },
     "execution_count": 19,
     "metadata": {},
     "output_type": "execute_result"
    }
   ],
   "source": [
    "7.619565389988202e-07 < 4.820173226820382e-06"
   ]
  },
  {
   "cell_type": "code",
   "execution_count": null,
   "id": "dc071488-ab0f-46e0-b8a8-e7f335f2b3b0",
   "metadata": {},
   "outputs": [],
   "source": []
  }
 ],
 "metadata": {
  "kernelspec": {
   "display_name": "Python 3 (ipykernel)",
   "language": "python",
   "name": "python3"
  },
  "language_info": {
   "codemirror_mode": {
    "name": "ipython",
    "version": 3
   },
   "file_extension": ".py",
   "mimetype": "text/x-python",
   "name": "python",
   "nbconvert_exporter": "python",
   "pygments_lexer": "ipython3",
   "version": "3.10.16"
  }
 },
 "nbformat": 4,
 "nbformat_minor": 5
}
