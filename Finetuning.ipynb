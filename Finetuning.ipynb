{
 "cells": [
  {
   "cell_type": "code",
   "execution_count": 1,
   "id": "9e9d7c6a-4f72-48fe-afb3-9de24f2d7f47",
   "metadata": {},
   "outputs": [],
   "source": [
    "from fine_tuning_tabpfn.finetune_tabpfn import fine_tune_tabpfn\n",
    "from tabpfn.model.gatedtransformerv2 import GatedPerFeatureTransformer\n",
    "# from tabpfn.model.gatedtransformer import GatedPerFeatureTransformer"
   ]
  },
  {
   "cell_type": "code",
   "execution_count": 1,
   "id": "c63c7c2a-99af-405f-9db1-ac7739d9128d",
   "metadata": {},
   "outputs": [],
   "source": [
    "from fine_tuning_tabpfn.finetune_tabpfn import fine_tune_tabpfn\n",
    "from sklearn.datasets import load_iris, load_wine, fetch_openml,load_digits, load_breast_cancer\n",
    "from sklearn.metrics import log_loss\n",
    "from sklearn.model_selection import train_test_split\n",
    "from tabpfn.classifier import TabPFNClassifier\n",
    "from tabpfn.regressor import TabPFNRegressor\n",
    "import torch.nn as nn\n",
    "import torch\n",
    "from sklearn.metrics import accuracy_score,precision_score,recall_score\n",
    "import numpy as np\n",
    "import pandas as pd\n",
    "import openml\n",
    "import random\n",
    "import datetime"
   ]
  },
  {
   "cell_type": "markdown",
   "id": "62eaf80d-804a-4d5e-a26a-fef395450fdb",
   "metadata": {},
   "source": [
    "## Dataset Loading"
   ]
  },
  {
   "cell_type": "code",
   "execution_count": 3,
   "id": "b700766b-cdc3-406b-a14f-82d6664182fb",
   "metadata": {},
   "outputs": [],
   "source": [
    "## Load OpenML dataset baseline score"
   ]
  },
  {
   "cell_type": "code",
   "execution_count": 4,
   "id": "b365185e-4307-463f-b3d9-27e0da277ab1",
   "metadata": {},
   "outputs": [],
   "source": [
    "def get_random_difficult_dataset():\n",
    "    baseline_datasets = pd.read_csv('./openml_baseline_tabpfn.csv')\n",
    "    interesting_eval_datasets = baseline_datasets[(baseline_datasets['accuracy'] <=0.8) &(baseline_datasets['# Features'] >=50) & (baseline_datasets['# NaNs'] ==0)].sort_values(by=['accuracy'],ascending=True)\n",
    "    interesting_eval_datasets.id.to_list()\n",
    "    dataset_id=random.sample(interesting_eval_datasets.id.to_list(),1)[0]\n",
    "    dataset = openml.datasets.get_dataset(dataset_id)\n",
    "    print(\"Dataset info\",str(interesting_eval_datasets[interesting_eval_datasets['id']==dataset_id].to_dict(\"records\")))\n",
    "    X, y, categorical_indicator, attribute_names = dataset.get_data(\n",
    "    dataset_format=\"array\", target=dataset.default_target_attribute)\n",
    "    return pd.DataFrame(X),pd.DataFrame(y), dataset_id"
   ]
  },
  {
   "cell_type": "code",
   "execution_count": 5,
   "id": "bb5d0814-d2d5-4465-84c4-b37b4f8b8cab",
   "metadata": {},
   "outputs": [],
   "source": [
    "def load_synthetic_lspin_easy():\n",
    "    np.random.seed(42)\n",
    "    Xs1 = np.random.normal(loc=1,scale=0.5,size=(300,5))\n",
    "    Ys1 = -2*Xs1[:,0]+1*Xs1[:,1]-0.5*Xs1[:,2]\n",
    "    \n",
    "    Xs2 = np.random.normal(loc=-1,scale=0.5,size=(300,5))\n",
    "    Ys2 = -0.5*Xs2[:,2]+1*Xs2[:,3]-2*Xs2[:,4]\n",
    "    X_data = np.concatenate((Xs1,Xs2),axis=0)\n",
    "    Y_data = np.concatenate((Ys1.reshape(-1,1),Ys2.reshape(-1,1)),axis=0)\n",
    "    Y_data = Y_data-Y_data.min()\n",
    "    Y_data=Y_data/Y_data.max()\n",
    "    y_labels = np.concatenate((np.array([0]*300),np.array([1]*300)))\n",
    "    X_data = pd.DataFrame(X_data)\n",
    "    y_labels = pd.DataFrame(y_labels)\n",
    "    return X_data, y_labels\n",
    "\n",
    "def load_synthetic_data_lspin_xor():\n",
    "    N_train = 1500\n",
    "    N_valid=300\n",
    "    N_test = 300\n",
    "    D=7\n",
    "    np.random.seed(42)\n",
    "    group_size=int(N_train/3)\n",
    "    X_train = np.sign(np.random.normal(0,1,(N_train,D)))\n",
    "    X_train = np.concatenate((X_train,\n",
    "                             np.concatenate(([-1]*group_size,[0]*group_size,[1]*group_size)).reshape(-1,1)),axis=1)\n",
    "    Y_train = np.concatenate((X_train[:group_size,0]*X_train[:group_size,1]+2*X_train[:group_size,-1],\n",
    "                              X_train[group_size:(group_size*2),1]*X_train[group_size:(group_size*2),2]+2*X_train[group_size:(group_size*2),-1],\n",
    "                              X_train[(group_size*2):(group_size*3),2]*X_train[(group_size*2):(group_size*3),3]+2*X_train[(group_size*2):(group_size*3),-1],\n",
    "                             ),axis=0)\n",
    "    Y_train = pd.DataFrame(Y_train)\n",
    "    Y_train[0] = Y_train[0].apply(lambda x: 0 if x == 1 else x)\n",
    "    Y_train[0] = Y_train[0].apply(lambda x: 1 if x == -1 else x)\n",
    "    Y_train[0] = Y_train[0].apply(lambda x: 2 if x == 3 else x)\n",
    "    Y_train[0] = Y_train[0].apply(lambda x: 3 if x == -3 else x)\n",
    "    return pd.DataFrame(X_train), Y_train"
   ]
  },
  {
   "cell_type": "markdown",
   "id": "4b3c1de7-1082-4b0e-992e-228cb142331f",
   "metadata": {},
   "source": [
    "## Evaluating Models"
   ]
  },
  {
   "cell_type": "markdown",
   "id": "ff88e015-50b1-49f8-be01-d383128e11ea",
   "metadata": {},
   "source": [
    "### Evaluating Custom Model"
   ]
  },
  {
   "cell_type": "code",
   "execution_count": 6,
   "id": "c35aca17-d990-4f0e-b9a0-123053be4e8e",
   "metadata": {},
   "outputs": [],
   "source": [
    "# Load data\n",
    "# X, y = load_wine(return_X_y=True, as_frame=True)\n",
    "# X, y = load_breast_cancer(return_X_y=True, as_frame=True)\n",
    "# X,y,did = get_random_difficult_dataset()\n",
    "# Load MNIST from OpenML; as_frame=True returns a Pandas DataFrame.\n",
    "mnist = fetch_openml('mnist_784', version=1, as_frame=True)\n",
    "X, y = mnist[\"data\"], mnist[\"target\"]\n",
    "y = y.astype(int)\n",
    "X= pd.DataFrame(X)\n",
    "y = pd.DataFrame(y)\n",
    "did=1234\n",
    "# digits = load_digits()\n",
    "# X, y = pd.DataFrame(digits.data), pd.Series(digits.target)\n",
    "X_train, X_test, y_train, y_test = train_test_split(\n",
    "    X,\n",
    "    y,\n",
    "    test_size=0.90,\n",
    "    random_state=42,\n",
    "    shuffle=True\n",
    ")"
   ]
  },
  {
   "cell_type": "code",
   "execution_count": 7,
   "id": "f134e809-2175-4691-9b04-10d20166ccc8",
   "metadata": {},
   "outputs": [
    {
     "data": {
      "text/html": [
       "<div>\n",
       "<style scoped>\n",
       "    .dataframe tbody tr th:only-of-type {\n",
       "        vertical-align: middle;\n",
       "    }\n",
       "\n",
       "    .dataframe tbody tr th {\n",
       "        vertical-align: top;\n",
       "    }\n",
       "\n",
       "    .dataframe thead th {\n",
       "        text-align: right;\n",
       "    }\n",
       "</style>\n",
       "<table border=\"1\" class=\"dataframe\">\n",
       "  <thead>\n",
       "    <tr style=\"text-align: right;\">\n",
       "      <th></th>\n",
       "      <th>pixel1</th>\n",
       "      <th>pixel2</th>\n",
       "      <th>pixel3</th>\n",
       "      <th>pixel4</th>\n",
       "      <th>pixel5</th>\n",
       "      <th>pixel6</th>\n",
       "      <th>pixel7</th>\n",
       "      <th>pixel8</th>\n",
       "      <th>pixel9</th>\n",
       "      <th>pixel10</th>\n",
       "      <th>...</th>\n",
       "      <th>pixel775</th>\n",
       "      <th>pixel776</th>\n",
       "      <th>pixel777</th>\n",
       "      <th>pixel778</th>\n",
       "      <th>pixel779</th>\n",
       "      <th>pixel780</th>\n",
       "      <th>pixel781</th>\n",
       "      <th>pixel782</th>\n",
       "      <th>pixel783</th>\n",
       "      <th>pixel784</th>\n",
       "    </tr>\n",
       "  </thead>\n",
       "  <tbody>\n",
       "    <tr>\n",
       "      <th>0</th>\n",
       "      <td>0</td>\n",
       "      <td>0</td>\n",
       "      <td>0</td>\n",
       "      <td>0</td>\n",
       "      <td>0</td>\n",
       "      <td>0</td>\n",
       "      <td>0</td>\n",
       "      <td>0</td>\n",
       "      <td>0</td>\n",
       "      <td>0</td>\n",
       "      <td>...</td>\n",
       "      <td>0</td>\n",
       "      <td>0</td>\n",
       "      <td>0</td>\n",
       "      <td>0</td>\n",
       "      <td>0</td>\n",
       "      <td>0</td>\n",
       "      <td>0</td>\n",
       "      <td>0</td>\n",
       "      <td>0</td>\n",
       "      <td>0</td>\n",
       "    </tr>\n",
       "    <tr>\n",
       "      <th>1</th>\n",
       "      <td>0</td>\n",
       "      <td>0</td>\n",
       "      <td>0</td>\n",
       "      <td>0</td>\n",
       "      <td>0</td>\n",
       "      <td>0</td>\n",
       "      <td>0</td>\n",
       "      <td>0</td>\n",
       "      <td>0</td>\n",
       "      <td>0</td>\n",
       "      <td>...</td>\n",
       "      <td>0</td>\n",
       "      <td>0</td>\n",
       "      <td>0</td>\n",
       "      <td>0</td>\n",
       "      <td>0</td>\n",
       "      <td>0</td>\n",
       "      <td>0</td>\n",
       "      <td>0</td>\n",
       "      <td>0</td>\n",
       "      <td>0</td>\n",
       "    </tr>\n",
       "    <tr>\n",
       "      <th>2</th>\n",
       "      <td>0</td>\n",
       "      <td>0</td>\n",
       "      <td>0</td>\n",
       "      <td>0</td>\n",
       "      <td>0</td>\n",
       "      <td>0</td>\n",
       "      <td>0</td>\n",
       "      <td>0</td>\n",
       "      <td>0</td>\n",
       "      <td>0</td>\n",
       "      <td>...</td>\n",
       "      <td>0</td>\n",
       "      <td>0</td>\n",
       "      <td>0</td>\n",
       "      <td>0</td>\n",
       "      <td>0</td>\n",
       "      <td>0</td>\n",
       "      <td>0</td>\n",
       "      <td>0</td>\n",
       "      <td>0</td>\n",
       "      <td>0</td>\n",
       "    </tr>\n",
       "    <tr>\n",
       "      <th>3</th>\n",
       "      <td>0</td>\n",
       "      <td>0</td>\n",
       "      <td>0</td>\n",
       "      <td>0</td>\n",
       "      <td>0</td>\n",
       "      <td>0</td>\n",
       "      <td>0</td>\n",
       "      <td>0</td>\n",
       "      <td>0</td>\n",
       "      <td>0</td>\n",
       "      <td>...</td>\n",
       "      <td>0</td>\n",
       "      <td>0</td>\n",
       "      <td>0</td>\n",
       "      <td>0</td>\n",
       "      <td>0</td>\n",
       "      <td>0</td>\n",
       "      <td>0</td>\n",
       "      <td>0</td>\n",
       "      <td>0</td>\n",
       "      <td>0</td>\n",
       "    </tr>\n",
       "    <tr>\n",
       "      <th>4</th>\n",
       "      <td>0</td>\n",
       "      <td>0</td>\n",
       "      <td>0</td>\n",
       "      <td>0</td>\n",
       "      <td>0</td>\n",
       "      <td>0</td>\n",
       "      <td>0</td>\n",
       "      <td>0</td>\n",
       "      <td>0</td>\n",
       "      <td>0</td>\n",
       "      <td>...</td>\n",
       "      <td>0</td>\n",
       "      <td>0</td>\n",
       "      <td>0</td>\n",
       "      <td>0</td>\n",
       "      <td>0</td>\n",
       "      <td>0</td>\n",
       "      <td>0</td>\n",
       "      <td>0</td>\n",
       "      <td>0</td>\n",
       "      <td>0</td>\n",
       "    </tr>\n",
       "  </tbody>\n",
       "</table>\n",
       "<p>5 rows × 784 columns</p>\n",
       "</div>"
      ],
      "text/plain": [
       "   pixel1  pixel2  pixel3  pixel4  pixel5  pixel6  pixel7  pixel8  pixel9  \\\n",
       "0       0       0       0       0       0       0       0       0       0   \n",
       "1       0       0       0       0       0       0       0       0       0   \n",
       "2       0       0       0       0       0       0       0       0       0   \n",
       "3       0       0       0       0       0       0       0       0       0   \n",
       "4       0       0       0       0       0       0       0       0       0   \n",
       "\n",
       "   pixel10  ...  pixel775  pixel776  pixel777  pixel778  pixel779  pixel780  \\\n",
       "0        0  ...         0         0         0         0         0         0   \n",
       "1        0  ...         0         0         0         0         0         0   \n",
       "2        0  ...         0         0         0         0         0         0   \n",
       "3        0  ...         0         0         0         0         0         0   \n",
       "4        0  ...         0         0         0         0         0         0   \n",
       "\n",
       "   pixel781  pixel782  pixel783  pixel784  \n",
       "0         0         0         0         0  \n",
       "1         0         0         0         0  \n",
       "2         0         0         0         0  \n",
       "3         0         0         0         0  \n",
       "4         0         0         0         0  \n",
       "\n",
       "[5 rows x 784 columns]"
      ]
     },
     "execution_count": 7,
     "metadata": {},
     "output_type": "execute_result"
    }
   ],
   "source": [
    "X.head()"
   ]
  },
  {
   "cell_type": "code",
   "execution_count": null,
   "id": "1f6792bc-ddd1-46bc-a527-0253f14b5c93",
   "metadata": {},
   "outputs": [
    {
     "name": "stdout",
     "output_type": "stream",
     "text": [
      "Loading GatedModelV2\n",
      "Warning: No feature gate parameters found in state_dict; using random initialization for feature_gate.\n",
      "Loaded Gated Model\n"
     ]
    },
    {
     "name": "stderr",
     "output_type": "stream",
     "text": [
      "Fine-tuning Steps:   0%|                                                                     | 1/10000 [00:00<?, ?it/s]"
     ]
    }
   ],
   "source": [
    "\n",
    "\n",
    "random_dataset_id = did\n",
    "date_markup = '_'.join(str(datetime.datetime.now()).split()[0].split(\"-\"))\n",
    "# Finetune\n",
    "save_path_to_fine_tuned_model = f\"./fine_tuned_model_new_{date_markup}_gated_{random_dataset_id}.ckpt\"\n",
    "fine_tune_tabpfn(\n",
    "    path_to_base_model=\"auto\",\n",
    "    save_path_to_fine_tuned_model=save_path_to_fine_tuned_model,\n",
    "    # Finetuning HPs\n",
    "    time_limit=200,\n",
    "    finetuning_config={\"learning_rate\": 0.00001, \"batch_size\": 8,\"min_patience\": 300,\"max_patience\": 1000},\n",
    "    validation_metric=\"log_loss\",\n",
    "    # Input Data\n",
    "    X_train=X_train,\n",
    "    y_train=y_train,\n",
    "    categorical_features_index=None,\n",
    "    device=\"cuda\",  # use \"cpu\" if you don't have a GPU\n",
    "    task_type=\"multiclass\",\n",
    "    gated=True,\n",
    "    extra_configuration={'num_features_input':784},\n",
    "    # Optional\n",
    "    show_training_curve=True,  # Shows a final report after finetuning.\n",
    "    logger_level=-100,  # Shows all logs, higher values shows less\n",
    "    use_wandb=False,  # Init wandb yourself, and set to True\n",
    ")\n",
    "\n",
    "\n"
   ]
  },
  {
   "cell_type": "code",
   "execution_count": 79,
   "id": "c6ccfab1-a1f4-440c-bc9e-d9b9c834950a",
   "metadata": {},
   "outputs": [
    {
     "name": "stdout",
     "output_type": "stream",
     "text": [
      "Loaded gating model for attention\n",
      "Loaded Gated Model\n"
     ]
    },
    {
     "name": "stderr",
     "output_type": "stream",
     "text": [
      "C:\\conda_envs\\ds310\\lib\\site-packages\\sklearn\\utils\\validation.py:1408: DataConversionWarning: A column-vector y was passed when a 1d array was expected. Please change the shape of y to (n_samples, ), for example using ravel().\n",
      "  y = column_or_1d(y, warn=True)\n"
     ]
    },
    {
     "name": "stdout",
     "output_type": "stream",
     "text": [
      "Log Loss (Default): 0.6946271412491768\n"
     ]
    }
   ],
   "source": [
    "save_path_to_fine_tuned_model = f\"./fine_tuned_model_new_{date_markup}_gated_{random_dataset_id}.ckpt\"\n",
    "gated_model = TabPFNClassifier(\n",
    "    model_path=save_path_to_fine_tuned_model,\n",
    "    gated=True\n",
    ")\n",
    "# Then, use gated_model in your fine-tuning pipeline.\n",
    "clf = gated_model.fit(X_train, y_train)\n",
    "print(\"Log Loss (Default):\", log_loss(y_test, clf.predict_proba(X_test)))"
   ]
  },
  {
   "cell_type": "code",
   "execution_count": 80,
   "id": "7abcd2c8-a689-4267-bf00-d3f4888ae147",
   "metadata": {},
   "outputs": [
    {
     "data": {
      "text/plain": [
       "(0.47401574803149604, 0.43548056492938386, 0.47401574803149604)"
      ]
     },
     "execution_count": 80,
     "metadata": {},
     "output_type": "execute_result"
    }
   ],
   "source": [
    "accuracy_score(y_test,np.argmax(clf.predict_proba(X_test),axis=1)),\\\n",
    "precision_score(y_test,np.argmax(clf.predict_proba(X_test),axis=1),\\\n",
    "average='weighted'),\\\n",
    "recall_score(y_test,np.argmax(clf.predict_proba(X_test),axis=1),average='weighted')"
   ]
  },
  {
   "cell_type": "markdown",
   "id": "116a9953-2025-486d-8a3e-e5fca10dffb2",
   "metadata": {},
   "source": [
    "### Evaluating Baseline Model"
   ]
  },
  {
   "cell_type": "code",
   "execution_count": 81,
   "id": "4b0285bd-8b04-498d-8f65-d436ef28b3c3",
   "metadata": {},
   "outputs": [
    {
     "name": "stderr",
     "output_type": "stream",
     "text": [
      "DEBUG:fine_tuning_tabpfn.finetune_tabpfn:\n",
      "    === Basic / Validation State ===\n",
      "        \tTime Limit: 200\n",
      "        \tEarly Stopping Metric: log_loss\n",
      "        \tVal Samples: 851 | Total Samples: 2578\n",
      "        \tModel #parameter: 7244554\n",
      "    \n",
      "DEBUG:fine_tuning_tabpfn.finetune_tabpfn:\n",
      "        === Learning HPs ===\n",
      "            \tBatch Size: 8\n",
      "            \tLr: 1e-05 | Weight Decay: 0\n",
      "            \tMax Steps: 10000\n",
      "            \tAdaptiveES: Adaptive Rate 0.2 | Min Patience 300 | Max Patience 1000\n",
      "            \tUpdate Every N Steps: 1 | Validate Every N Steps: 1\n",
      "        \n"
     ]
    },
    {
     "name": "stdout",
     "output_type": "stream",
     "text": [
      "Loaded Regular Model\n"
     ]
    },
    {
     "name": "stderr",
     "output_type": "stream",
     "text": [
      "DEBUG:fine_tuning_tabpfn.finetune_tabpfn:Initial validation loss: 0.6925342738977718\n",
      "Fine-tuning Steps:   0%| | 7/10000 [02:58<82:40:03, 29.78s/it, Best Val. Loss=0.693, Best Val. Score=-0.693, Training L\n",
      "DEBUG:fine_tuning_tabpfn.finetune_tabpfn:Early stopping due no time.\n",
      "INFO:fine_tuning_tabpfn.finetune_tabpfn:=== Fine-Tuning Report for TabPFN ===\n",
      "        \tTotal Time Spent: 179.92872214317322\n",
      "        \tInitial Validation Loss: \t 0.6925342738977718\n",
      "        \tBest Validation Loss: \t 0.6925342738977718\n",
      "        \tTotal Steps: 8\n",
      "        \tBest Step: 0\n",
      "        \tEarly Stopping Reason: Early stopping due no time.\n",
      "        \tAvg. Time per Step: 22.491090267896652\n",
      "        \tAvg. Device Utilization: 98.25\n",
      "        \n"
     ]
    },
    {
     "data": {
      "image/png": "[encoded data removed]",
      "text/plain": [
       "<Figure size 800x800 with 1 Axes>"
      ]
     },
     "metadata": {},
     "output_type": "display_data"
    }
   ],
   "source": [
    "\n",
    "\n",
    "\n",
    "random_dataset_id = did\n",
    "date_markup = '_'.join(str(datetime.datetime.now()).split()[0].split(\"-\"))\n",
    "# Finetune\n",
    "save_path_to_fine_tuned_model = f\"./fine_tuned_model_new_{date_markup}_regular_{random_dataset_id}.ckpt\"\n",
    "\n",
    "fine_tune_tabpfn(\n",
    "    path_to_base_model=\"auto\",\n",
    "    save_path_to_fine_tuned_model=save_path_to_fine_tuned_model,\n",
    "    # Finetuning HPs\n",
    "  time_limit=200,\n",
    "    finetuning_config={\"learning_rate\": 0.00001, \"batch_size\": 8,\"min_patience\": 300,\"max_patience\": 1000},\n",
    "    validation_metric=\"log_loss\",\n",
    "    # Input Data\n",
    "    X_train=X_train,\n",
    "    y_train=y_train,\n",
    "    categorical_features_index=None,\n",
    "    device=\"cuda\",  # use \"cpu\" if you don't have a GPU\n",
    "    task_type=\"multiclass\",\n",
    "    # Optional\n",
    "    show_training_curve=True,  # Shows a final report after finetuning.\n",
    "    logger_level=-100,  # Shows all logs, higher values shows less\n",
    "    use_wandb=False,  # Init wandb yourself, and set to True\n",
    ")\n",
    "\n",
    "\n"
   ]
  },
  {
   "cell_type": "code",
   "execution_count": 82,
   "id": "6d4ad780-9ef6-4851-974e-ac37481469bf",
   "metadata": {},
   "outputs": [
    {
     "name": "stdout",
     "output_type": "stream",
     "text": [
      "Loaded Regular Model\n"
     ]
    },
    {
     "name": "stderr",
     "output_type": "stream",
     "text": [
      "C:\\conda_envs\\ds310\\lib\\site-packages\\sklearn\\utils\\validation.py:1408: DataConversionWarning: A column-vector y was passed when a 1d array was expected. Please change the shape of y to (n_samples, ), for example using ravel().\n",
      "  y = column_or_1d(y, warn=True)\n"
     ]
    },
    {
     "name": "stdout",
     "output_type": "stream",
     "text": [
      "Log Loss (Default): 0.6947513084195421\n"
     ]
    }
   ],
   "source": [
    "save_path_to_fine_tuned_model = f\"./fine_tuned_model_new_{date_markup}_regular_{random_dataset_id}.ckpt\"\n",
    "reg_model = TabPFNClassifier(\n",
    "    model_path=save_path_to_fine_tuned_model,\n",
    ")\n",
    "# Then, use gated_model in your fine-tuning pipeline.\n",
    "clf = reg_model.fit(X_train, y_train)\n",
    "print(\"Log Loss (Default):\", log_loss(y_test, clf.predict_proba(X_test)))"
   ]
  },
  {
   "cell_type": "code",
   "execution_count": 83,
   "id": "f01374a1-2a9c-4f7f-b26c-695d9768451e",
   "metadata": {},
   "outputs": [
    {
     "data": {
      "text/plain": [
       "(0.4716535433070866, 0.3681613215201302, 0.4716535433070866)"
      ]
     },
     "execution_count": 83,
     "metadata": {},
     "output_type": "execute_result"
    }
   ],
   "source": [
    "accuracy_score(y_test,np.argmax(clf.predict_proba(X_test),axis=1)),\\\n",
    "precision_score(y_test,np.argmax(clf.predict_proba(X_test),axis=1),\\\n",
    "average='weighted'),\\\n",
    "recall_score(y_test,np.argmax(clf.predict_proba(X_test),axis=1),average='weighted')"
   ]
  },
  {
   "cell_type": "code",
   "execution_count": null,
   "id": "dc071488-ab0f-46e0-b8a8-e7f335f2b3b0",
   "metadata": {},
   "outputs": [],
   "source": []
  }
 ],
 "metadata": {
  "kernelspec": {
   "display_name": "Python 3 (ipykernel)",
   "language": "python",
   "name": "python3"
  },
  "language_info": {
   "codemirror_mode": {
    "name": "ipython",
    "version": 3
   },
   "file_extension": ".py",
   "mimetype": "text/x-python",
   "name": "python",
   "nbconvert_exporter": "python",
   "pygments_lexer": "ipython3",
   "version": "3.10.16"
  }
 },
 "nbformat": 4,
 "nbformat_minor": 5
}
